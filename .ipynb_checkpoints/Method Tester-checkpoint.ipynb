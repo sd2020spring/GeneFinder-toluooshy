{
 "cells": [
  {
   "cell_type": "code",
   "execution_count": 1,
   "metadata": {},
   "outputs": [],
   "source": [
    "def get_complement(nucleotide):\n",
    "    if(nucleotide == 'A'):\n",
    "        return 'T'\n",
    "    elif(nucleotide == 'T'):\n",
    "        return 'A'\n",
    "    elif(nucleotide == 'C'):\n",
    "        return 'G'\n",
    "    elif(nucleotide == 'G'):\n",
    "        return 'C'\n",
    "    else:\n",
    "        return 'no nucleotide given'"
   ]
  },
  {
   "cell_type": "code",
   "execution_count": 2,
   "metadata": {},
   "outputs": [
    {
     "data": {
      "text/plain": [
       "'no nucleotide given'"
      ]
     },
     "execution_count": 2,
     "metadata": {},
     "output_type": "execute_result"
    }
   ],
   "source": [
    "get_complement('M')"
   ]
  },
  {
   "cell_type": "code",
   "execution_count": 3,
   "metadata": {},
   "outputs": [],
   "source": [
    "def get_reverse_complement(dna):\n",
    "    length = len(dna)\n",
    "    output = ''\n",
    "    while length > 0:\n",
    "        output = output + get_complement(dna[length-1:length])\n",
    "        length = length - 1\n",
    "    return output\n",
    "    pass"
   ]
  },
  {
   "cell_type": "code",
   "execution_count": 4,
   "metadata": {},
   "outputs": [
    {
     "data": {
      "text/plain": [
       "'TAGGTTGATCGAAGTT'"
      ]
     },
     "execution_count": 4,
     "metadata": {},
     "output_type": "execute_result"
    }
   ],
   "source": [
    "get_reverse_complement('AACTTCGATCAACCTA')"
   ]
  },
  {
   "cell_type": "code",
   "execution_count": 5,
   "metadata": {},
   "outputs": [],
   "source": [
    "def rest_of_ORF(dna):\n",
    "    if(dna[0:3] == 'ATG'):\n",
    "        pos = 0\n",
    "        length = len(dna)\n",
    "        output = ''\n",
    "        while length > 0:\n",
    "            if(dna[pos:pos+3] == 'TAA'):\n",
    "                return output\n",
    "            if(dna[pos:pos+3] == 'TAG'):\n",
    "                return output\n",
    "            if(dna[pos:pos+3] == 'TGA'):\n",
    "                return output\n",
    "            output = output + dna[pos:pos+3]\n",
    "            pos = pos + 3\n",
    "            length = length - 1\n",
    "        return output\n",
    "    else:\n",
    "        return 'no start codon found'\n",
    "    pass"
   ]
  },
  {
   "cell_type": "code",
   "execution_count": 6,
   "metadata": {},
   "outputs": [
    {
     "data": {
      "text/plain": [
       "'ATG'"
      ]
     },
     "execution_count": 6,
     "metadata": {},
     "output_type": "execute_result"
    }
   ],
   "source": [
    "rest_of_ORF('ATGTGAA')"
   ]
  },
  {
   "cell_type": "code",
   "execution_count": 7,
   "metadata": {},
   "outputs": [],
   "source": [
    "def find_all_ORFs_oneframe(dna):\n",
    "    pos = 0\n",
    "    full = len(dna)\n",
    "    length = len(dna)\n",
    "    string = ''\n",
    "    output = []\n",
    "    while length > 0:      \n",
    "        string = rest_of_ORF(dna[pos:full])\n",
    "        if(dna[pos:pos+3] == 'ATG'):\n",
    "            output.append(string)\n",
    "        pos = pos + 3\n",
    "        string = ''\n",
    "        length = length - 3\n",
    "    return output\n",
    "    pass"
   ]
  },
  {
   "cell_type": "code",
   "execution_count": 8,
   "metadata": {},
   "outputs": [
    {
     "data": {
      "text/plain": [
       "['ATGCATGAATGTAGA', 'ATGTGCCC']"
      ]
     },
     "execution_count": 8,
     "metadata": {},
     "output_type": "execute_result"
    }
   ],
   "source": [
    "find_all_ORFs_oneframe(\"ATGCATGAATGTAGATAGATGTGCCC\")"
   ]
  },
  {
   "cell_type": "code",
   "execution_count": 9,
   "metadata": {},
   "outputs": [],
   "source": [
    "def find_all_ORFs(dna):\n",
    "    pos = 0\n",
    "    full = len(dna)\n",
    "    length = len(dna)\n",
    "    string = ''\n",
    "    output = []\n",
    "    while length > 0:\n",
    "        output += find_all_ORFs_oneframe(dna)\n",
    "        dna = dna[full-(length-1):full]\n",
    "        length = length - 6\n",
    "    return output\n",
    "    pass"
   ]
  },
  {
   "cell_type": "code",
   "execution_count": 10,
   "metadata": {},
   "outputs": [
    {
     "data": {
      "text/plain": [
       "['ATGCATGAATGTAG', 'ATGAATGTAG', 'ATG']"
      ]
     },
     "execution_count": 10,
     "metadata": {},
     "output_type": "execute_result"
    }
   ],
   "source": [
    "find_all_ORFs('ATGCATGAATGTAG')"
   ]
  },
  {
   "cell_type": "code",
   "execution_count": 93,
   "metadata": {},
   "outputs": [],
   "source": [
    "def find_all_ORFs_both_strands(dna):\n",
    "    reverse = get_reverse_complement(dna)\n",
    "    output = []\n",
    "    marker = 0\n",
    "    pos = 0\n",
    "    pos2 = 0\n",
    "    full = len(dna)\n",
    "    length = len(dna)\n",
    "    string = ''\n",
    "    while length > 0:      \n",
    "        if(dna[pos:pos+3] == 'ATG'):\n",
    "            if(len(dna[pos:full]) > 6):\n",
    "                while pos2 < full-3:\n",
    "                    if(dna[pos2:pos2+3] == 'TAA'):\n",
    "                        output += find_all_ORFs(dna)[0:(len(find_all_ORFs(dna))-1)]\n",
    "                    if(dna[pos2:pos2+3] == 'TAG'):\n",
    "                        output += find_all_ORFs(dna)[0:(len(find_all_ORFs(dna))-1)]\n",
    "                    if(dna[pos2:pos2+3] == 'TGA'):\n",
    "                        output += find_all_ORFs(dna)[0:(len(find_all_ORFs(dna))-1)]\n",
    "                    pos2 = pos2 + 3\n",
    "            pos = pos + 3     \n",
    "        pos = pos + 1\n",
    "        length = length - 1 \n",
    "    pos = 0\n",
    "    pos2 = 0\n",
    "    full = len(reverse)\n",
    "    length = len(reverse)\n",
    "    string = ''\n",
    "    while length > 0:      \n",
    "        if(reverse[pos:pos+3] == 'ATG'):\n",
    "            if(len(reverse[pos:full]) > 6):\n",
    "                while pos2 < full-3:\n",
    "                    if(reverse[pos2:pos2+3] == 'TAA'):\n",
    "                        output += find_all_ORFs(reverse)[0:(len(find_all_ORFs(reverse))-1)]\n",
    "                    if(reverse[pos2:pos2+3] == 'TAG'):\n",
    "                        output += find_all_ORFs(reverse)[0:(len(find_all_ORFs(reverse))-1)]\n",
    "                    if(reverse[pos2:pos2+3] == 'TGA'):\n",
    "                        output += find_all_ORFs(reverse)[0:(len(find_all_ORFs(reverse))-1)]\n",
    "                    pos2 = pos2 + 3\n",
    "                output.append(reverse[pos:full])\n",
    "            else:\n",
    "                output.append('ATG')\n",
    "            pos = pos + 3     \n",
    "        pos = pos + 1\n",
    "        length = length - 1\n",
    "    '''\n",
    "    return output\n",
    "    pass"
   ]
  },
  {
   "cell_type": "code",
   "execution_count": 94,
   "metadata": {},
   "outputs": [
    {
     "data": {
      "text/plain": [
       "['ATGCGAATG']"
      ]
     },
     "execution_count": 94,
     "metadata": {},
     "output_type": "execute_result"
    }
   ],
   "source": [
    "find_all_ORFs_both_strands('ATGCGAATGTAGCATCAAA')"
   ]
  },
  {
   "cell_type": "code",
   "execution_count": null,
   "metadata": {},
   "outputs": [],
   "source": []
  },
  {
   "cell_type": "code",
   "execution_count": null,
   "metadata": {},
   "outputs": [],
   "source": []
  },
  {
   "cell_type": "code",
   "execution_count": null,
   "metadata": {},
   "outputs": [],
   "source": []
  }
 ],
 "metadata": {
  "kernelspec": {
   "display_name": "Python 3",
   "language": "python",
   "name": "python3"
  },
  "language_info": {
   "codemirror_mode": {
    "name": "ipython",
    "version": 3
   },
   "file_extension": ".py",
   "mimetype": "text/x-python",
   "name": "python",
   "nbconvert_exporter": "python",
   "pygments_lexer": "ipython3",
   "version": "3.7.4"
  }
 },
 "nbformat": 4,
 "nbformat_minor": 2
}
